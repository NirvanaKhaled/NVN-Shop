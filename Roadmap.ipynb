{
 "cells": [
  {
   "cell_type": "markdown",
   "id": "2ad0229c",
   "metadata": {},
   "source": [
    "My Roadmap \n"
   ]
  },
  {
   "cell_type": "markdown",
   "id": "ac2f4478",
   "metadata": {},
   "source": []
  },
  {
   "cell_type": "markdown",
   "id": "749e86ae",
   "metadata": {},
   "source": [
    "DAY ONE\n",
    "\n",
    "Phase 1: Setup & Planning\n",
    "\n",
    "Day 1–2\n",
    "\n",
    "Decide Tech Stack\n",
    "\n",
    "Frontend: React (Next.js recommended)\n",
    "\n",
    "Backend: Node.js + Express (or Python FastAPI if you prefer)\n",
    "\n",
    "Database: MongoDB Atlas (cloud, free)\n",
    "\n",
    "\n",
    "Payment: PayPal or Paymob (since Stripe isn’t in Egypt).\n",
    "\n",
    "Buy Domain\n",
    "\n",
    "Get a .com (e.g., nirvanaart.com) from Namecheap/GoDaddy. (~$10–15/year).\n",
    "\n",
    "My Notes:\n",
    "\n",
    "will use react \n",
    "\n",
    "folder name: (NVN-Shop)\n",
    "\n",
    "Local URL: (http://localhost:5173/)\n",
    "\n",
    "Okay and here are some steps to do : \n",
    "\n",
    "1- Organise your folder so it's divided to Client(Frontend) and Server(Backend)\n",
    "\n",
    "2- Skeleton => the pages you need and the navigation between them \n",
    "\n",
    "3- Routes => for each page added you need a route in the app.jsx file so you can reach this page\n"
   ]
  },
  {
   "cell_type": "markdown",
   "id": "a3284c15",
   "metadata": {},
   "source": [
    "Notes of Day 2\n",
    "\n",
    "Mission: Deployment of the website \n",
    "\n",
    "1- Deploy frontend(Netflify)\n",
    "\n",
    "2- Deploy backend(Railway) \n",
    "\n",
    "3- Connect the database to backend then connect the backend to the frontend"
   ]
  }
 ],
 "metadata": {
  "language_info": {
   "name": "python"
  }
 },
 "nbformat": 4,
 "nbformat_minor": 5
}
